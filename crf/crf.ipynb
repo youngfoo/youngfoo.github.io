{
 "cells": [
  {
   "cell_type": "markdown",
   "id": "8da2df52",
   "metadata": {},
   "source": [
    "# 条件随机场 Conditional Random Field"
   ]
  },
  {
   "cell_type": "markdown",
   "id": "382e95de",
   "metadata": {},
   "source": [
    "CRF是概率图模型中一个非常经典的概率无向图模型，常用在命名实体识别等序列标注任务上。"
   ]
  },
  {
   "cell_type": "markdown",
   "id": "9db6c6b1",
   "metadata": {},
   "source": [
    "序列标注任务的定义：给定给一个字符序列$x$，计算对应标签序列$y$的概率$P(y|x)$."
   ]
  },
  {
   "cell_type": "markdown",
   "id": "b1842baf",
   "metadata": {},
   "source": [
    "概率无向图模型又称为马尔可夫随机场，它要求$P(Y)$必须满足**成对、局部、全局马尔可夫性**。根据Hammersley-Clifford定理，概率无向图模型的联合概率分布$P(Y)$可以分解成规范化的最大团的势函数乘积。"
   ]
  },
  {
   "cell_type": "markdown",
   "id": "7248b256",
   "metadata": {},
   "source": [
    "条件随机场在此基础上加了一个随机变量$X$进来，此时有$P(Y_v|X, Y_w, w \\not = v) = P(Y_v|X, Y_v, w \\sim v)$，其中$\\sim$表示相邻。此时，Y仍旧满足马尔可夫随机场。"
   ]
  },
  {
   "cell_type": "markdown",
   "id": "1de48235",
   "metadata": {},
   "source": [
    "线性链条件随机场在此基础上，要求$Y$具有链式结构，但是对$X$没有要求，可用下图来表示："
   ]
  },
  {
   "cell_type": "code",
   "execution_count": null,
   "id": "9711ddff",
   "metadata": {},
   "outputs": [],
   "source": []
  }
 ],
 "metadata": {
  "kernelspec": {
   "display_name": "Python 3 (ipykernel)",
   "language": "python",
   "name": "python3"
  },
  "language_info": {
   "codemirror_mode": {
    "name": "ipython",
    "version": 3
   },
   "file_extension": ".py",
   "mimetype": "text/x-python",
   "name": "python",
   "nbconvert_exporter": "python",
   "pygments_lexer": "ipython3",
   "version": "3.9.5"
  }
 },
 "nbformat": 4,
 "nbformat_minor": 5
}
